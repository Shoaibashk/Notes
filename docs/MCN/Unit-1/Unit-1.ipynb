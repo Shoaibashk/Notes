{
 "cells": [
  {
   "cell_type": "markdown",
   "metadata": {},
   "source": [
    "# Unit-1 Traffic Engineering And Signaling\n",
    "\n",
    "<!-- 1. Telecommunication Traffic:\n",
    "    - unit of Traffic , Traffic measurement.\n",
    "    - A mathematical model:\n",
    "        1. Lost call systems:\n",
    "            - Theory , Traffic Performance.\n",
    "            - Loss systems in tandem.\n",
    "            - Traffic tables.\n",
    "        2. Queueing systems: \n",
    "            - Erlang Distribution\n",
    "            -Probability of delay\n",
    "2. Signaling:\n",
    "    - CCITT Signaling System and Digital Customers line Signaling -->"
   ]
  },
  {
   "cell_type": "markdown",
   "metadata": {},
   "source": [
    "----------------------------------"
   ]
  },
  {
   "cell_type": "markdown",
   "metadata": {},
   "source": [
    "## Telephone Traffic profile\n",
    "\n",
    "1. operater thus offer cheaper call rates during off-peak hours. It costs them almost nothing to carry such calls\n",
    "\n",
    "2. if they manage to shift some calls from peak and thus capital expenditure are needed.\n",
    "\n",
    "An <b style=\"color:red\">Example of Telephone Traffic Profile</b> of a service area:\n",
    "![call-hours-vs-time](call-vs-time.jpg)\n",
    "\n",
    "\n",
    "## Traffic\n",
    "\n",
    "1. the traffic intensity (Sometimes refered as simply as Traffic) is defined as the average number of calls in progress simultaneously during a particular period of time.\n",
    "\n",
    "2. traffic intensity is a measure of the average occupancy of a server or resource during a specified period of time, normally a busy hour. It is  measured in traffic units (erlangs) and defined as the ratio of the time during which a facility is cumulatively occupied to the time this facility is available for occupancy.\n",
    "\n",
    "## Erlang\n",
    "\n",
    "1. It is dimensionless but name is given by Erlang(unit).\n",
    "2. One Erlang (E) represents the amount of traffic carried by a trunk that is completely occupied i.e one call-hour per hour or one minute per minute.\n",
    "\n",
    "3. Traffic carried by a group of trunks is :\n",
    "\n",
    "## Formula\n",
    "\n",
    "$$\n",
    "Traffic= A  = \\frac {C \\times h}{T}\n",
    "$$\n",
    "\n",
    "where,\n",
    "\n",
    "    - A = Traffic in Erlang \n",
    "    - C = Average number of call arrivals during time T\n",
    "    - h = average call holding time \n",
    "\n",
    "    - 1 erlang = 36 ccs (centum call second per hour)"
   ]
  },
  {
   "cell_type": "markdown",
   "metadata": {},
   "source": [
    "## Trunking Concept\n",
    "\n",
    "!!! example \"Example 1.1\"\n",
    "\n",
    "    On average during the busy hour a company makes **120 outgoing** calls of average duration **2 minuates**. It recieves **200 incoming** calls of average duration **3 minutes**.\n",
    "\n",
    "    Find:\n",
    "\n",
    "    1. The outgoing traffic.\n",
    "    2. The incoming traffic.\n",
    "    3. The total traffic.\n",
    "\n",
    "    Ans:\n",
    "\n",
    "    1.the outgoing traffic is $$120 \\times 2/60 = 4E$$.\n",
    "\n",
    "    2.the incoming traffic is $$200 \\times 3/60 = 10E$$.\n",
    "\n",
    "    3.the total traffic is $$4 + 10 = 14E$$"
   ]
  },
  {
   "cell_type": "markdown",
   "metadata": {},
   "source": [
    "!!! note\n",
    "    on average four outgoing calls are made during their average holding time of 2 minutes and ten incoming calls are recieved during their average holding time of 3 minutes **i.e if T=h, then C=A.**"
   ]
  },
  {
   "cell_type": "markdown",
   "metadata": {},
   "source": [
    "## Occupancy of the truncks\n",
    "\n",
    "A single trunkcannot carry more than one call traffic A fro a single trunk is \\(\\leq 1\\).The traffic is fraction of an erlang equal to the average propartion of time for which the trunk is busy.This is called the **occupancy of the trunk**.\n",
    "\n",
    "The probabilty of finding a trunk busy is equal to the proportion of the time for which the trunk is busy. Thus this **Probability = Occupancy of the Trunk**\n",
    "\n",
    "!!! example \"Exapmle 1.2\"\n",
    "\n",
    "    During the busy hour on average a customers with a single telephone line makes three calls and recieves three calls. The average call duration is 2 minutes. What is the probability that a  caller will find the line engaged.\n",
    "    \n",
    "    Ans:\n",
    "    \n",
    "    **Occupancy of line** =\\((3+3) \\times 2/60 = 0.2E\\)\n",
    "                    =**Probability of finding the line engaged**"
   ]
  },
  {
   "cell_type": "markdown",
   "metadata": {},
   "source": [
    "## Congestion\n",
    "\n",
    "1. In a telephone exchange. It is possible that all subscribers make calls simultaneously. The cost of meeting the demand is **prohibitive**\n",
    "\n",
    "2. Therefore , there is a possibility that all trunks is a group of trunks  are **Busy => Congestion**.\n",
    "\n",
    "3. **here are 2 types of telecommunication system**:\n",
    "    - **Lost Call (LC) system.**\n",
    "        - In Lost calls system the calls will be just dropped.\n",
    "    - **Delay / queueing system.**\n",
    "        - In delay systems calls coming in during congestion wait in a queue until on outgoing trunk becomes free."
   ]
  },
  {
   "cell_type": "markdown",
   "metadata": {},
   "source": [
    "!!! note\n",
    "    Telephone systems are normally lost call systems."
   ]
  },
  {
   "cell_type": "markdown",
   "metadata": {},
   "source": [
    "## Grade of Service(GOS)\n",
    "\n",
    "1. The proportion of calls that is lost or delayed due to congestion is a measure of the quality of the service provided. It is called **grade of       service (GOS) B**.\n",
    "\n",
    "2. If GOS is too large it will result in many users unable to make successfull calls and thus dissatisfied.\n",
    "3. If GOS is too small , unnecessory expenditure on equipment which is rarly used is made.\n",
    "4. In Practice, GOS is higer for more $$LOST-CALL-SYSTEM$$\n",
    "\n",
    "$$\n",
    "\\textrm{Traffic carried} = \\textrm{Traffic offered} - \\textrm{Traffic lost}\n",
    "$$\n",
    "\n",
    "$$\n",
    "\\textrm{Grade of Service B} = \\frac{\\textrm{No. of calls lost}}{\\textrm{No. of calls offered}}\n",
    "$$\n",
    "\n",
    "$$\n",
    "\\textrm{Grade of Service B} = \\frac{\\textrm{Traffic Lost}}{\\textrm{Traffic Offered}}\n",
    "$$\n",
    "\n",
    "- proportion of the time for which congestion exists.\n",
    "- probability of congestion.\n",
    "- probability that a call be lost due to congestion."
   ]
  },
  {
   "cell_type": "markdown",
   "metadata": {},
   "source": [
    "!!! note\n",
    "    **Traffic lost is AB & Traffic is A(1 - B)**\n",
    "    where\n",
    "\n",
    "        A = Traffic in Erlang\n",
    "        B = GOS"
   ]
  },
  {
   "cell_type": "markdown",
   "metadata": {},
   "source": [
    "!!! attention\n",
    "    Larger the grade of service the worse is the service given."
   ]
  }
 ],
 "metadata": {
  "kernelspec": {
   "display_name": "Python 3",
   "language": "python",
   "name": "python3"
  },
  "language_info": {
   "codemirror_mode": {
    "name": "ipython",
    "version": 3
   },
   "file_extension": ".py",
   "mimetype": "text/x-python",
   "name": "python",
   "nbconvert_exporter": "python",
   "pygments_lexer": "ipython3",
   "version": "3.7.9"
  }
 },
 "nbformat": 4,
 "nbformat_minor": 2
}