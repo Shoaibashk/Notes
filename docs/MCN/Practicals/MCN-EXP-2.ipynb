{
 "cells": [
  {
   "cell_type": "markdown",
   "metadata": {},
   "source": [
    "# Experiment - 2 -Answers"
   ]
  },
  {
   "cell_type": "markdown",
   "metadata": {},
   "source": [
    "## Que 1: Write expression for net signal power at the receiver?"
   ]
  },
  {
   "cell_type": "markdown",
   "metadata": {},
   "source": [
    "Ans: \n",
    "the link budget expression for the SNR required is given as :-\n",
    "\n",
    "$SNR_{req}$ = $P + (dB) + -L(dB) -M(dB) + G_r(dB) -L_C(dB) - (N + I) + B$\n",
    "\n",
    "**Where**,\n",
    "\n",
    "- SNR_req     - Not signal power of reciver.\n",
    "- G_t         - Transmit - antenna gain\n",
    "- I           - Median link propagation less.\n",
    "- M           - Margin\n",
    "- G_r         - Mobilw receive antenna gain.\n",
    "- L_c         - Cabling Losses\n",
    "- N+I         - Receiver (noise + inerface) by recasting required transmit process.\n",
    "\n",
    "$P_t$ = $SNR_{req} - G_t (dB) + L(dB) + M(dB) - G_r(dB) + L_c (dB) + (N + I)(dB)$ "
   ]
  },
  {
   "cell_type": "markdown",
   "metadata": {},
   "source": [
    "----------------------------"
   ]
  },
  {
   "cell_type": "markdown",
   "metadata": {},
   "source": [
    "## Que 2:Derive an expression of received power for Free space propogation model ?"
   ]
  },
  {
   "cell_type": "markdown",
   "metadata": {},
   "source": [
    "Ans:\n",
    "\n",
    "Free space propagation model predicts the received signal strength when there is an unobstructed line of sight path between transmitter and receiver. It assumes the ideal propagation condition that the environment is empty between the transmitter and receiver.\n",
    "The eqution for received power is given by:\n",
    "\n",
    "![friss model](https://www.gaussianwaves.com/gaussianwaves/wp-content/uploads/2020/06/Friis-Free-Space-Propagation-Model-equation-1-300x67.png)\n",
    "\n",
    "**where,** \n",
    "\n",
    "- Pr - is the received signal power in Watts.\n",
    "- Pt - is the power of the transmitted signal’s Watts.\n",
    "- L - represents other losses.\n",
    "- λ - is the wavelength of carrier in meters. \n",
    "- Gt and Gr - are the gains of transmitter and receiver antennas. \n",
    "\n",
    "It is also can be modified to accommodate different environments, on the reason that the received signal decreases as the nth power of distance, \n",
    "\n",
    "![friss model II](https://www.gaussianwaves.com/gaussianwaves/wp-content/uploads/2020/06/Friis-Free-Space-Propagation-Model-equation-2-300x62.png)\n",
    "for freespace path-loss exponent (PLE)."
   ]
  },
  {
   "cell_type": "markdown",
   "metadata": {},
   "source": [
    "-------------------------------------------"
   ]
  },
  {
   "cell_type": "markdown",
   "metadata": {},
   "source": [
    "## Que 3: What is meant by small scale fading? "
   ]
  },
  {
   "cell_type": "markdown",
   "metadata": {},
   "source": [
    "Ans:\n",
    "\n",
    "Small-scale fading refers to the rapid changes of the amplitude and phase of a radio signal over a short period of time (on the order of seconds) or a short distance (a few wavelengths). Small-scale fading depends on the nature of the transmitted signal with respect to the characteristics of the channel. In a mobile-radio environment, each path has its own Doppler shift, time delay, and path attenuation, and multipath propagation results in a time-varying signal as the mobile moves position."
   ]
  },
  {
   "cell_type": "markdown",
   "metadata": {},
   "source": [
    "# Code (Octave) :-"
   ]
  },
  {
   "cell_type": "code",
   "execution_count": 1,
   "metadata": {},
   "outputs": [
    {
     "name": "stdout",
     "output_type": "stream",
     "text": [
      "Hata-Okumura Model\n",
      "1 Big City (Urban model)\n",
      "2 Small & Medium City (Urban model)\n",
      "3 Sub-urban environment\n",
      "4 Open Rural environment\n",
      "Select Your choice of environment :2\n"
     ]
    }
   ],
   "source": [
    "clc;clear all;\n",
    "%----------Input Section---------------\n",
    "Hbts= 50 ;%Height measured from the base of the BTS tower to the radiation centerline\n",
    "Tbts = 350 ;%Terrain elevation at the location of the BTS\n",
    "Htav= 300;%Height of the average terrain (from 3 Km to 15 km distance from the BTS)\n",
    "Hm=3 ;%Height of the mobile antenna in meters\n",
    "f=900 ;%100:100:3000; %Range of frequencies in MHz\n",
    "d=0.5:0.5:15; %Range of Tx-Rx separation distances in Kilometers\n",
    "Pt = 0.020; %Power transmitted by the BTS antenna in Watts\n",
    "Gt= 10; %BTS antenna gain in dBi\n",
    "%--------------------------------------\n",
    "Hb=Hbts+Tbts-Htav ;%Effective Height of the BTS antenna in meters\n",
    "                    %Cell array to store various model names\n",
    "models = {'Big City (Urban model)';\n",
    "            'Small & Medium City (Urban model)';\n",
    "            'Sub-urban environment';\n",
    "            'Open Rural environment'};\n",
    "            \n",
    "display('Hata-Okumura Model');\n",
    "display(['1 ' models{1,1}]);\n",
    "display(['2 ' models{2,1}]);\n",
    "display(['3 ' models{3,1}]);\n",
    "display(['4 ' models{4,1}]);\n",
    "reply = input('Select Your choice of environment : ','s');"
   ]
  },
  {
   "cell_type": "code",
   "execution_count": 2,
   "metadata": {},
   "outputs": [
    {
     "name": "stdout",
     "output_type": "stream",
     "text": [
      "Chosen Model : Small & Medium City (Urban model)\r\n"
     ]
    }
   ],
   "source": [
    "if 0<str2num(reply)<4\n",
    "    modelName = models{str2num(reply),1};\n",
    "    display(['Chosen Model : ' modelName])\n",
    "else\n",
    "    error('Invalid Selection');\n",
    "end\n",
    "switch reply\n",
    "    case'1',\n",
    "    C=0;\n",
    "        if f<=200\n",
    "        aHm=8.29*(log10(1.54*Hm))^2-1.1;\n",
    "        else\n",
    "        aHm=3.2*(log10(11.75*Hm))^2-4.97;\n",
    "        end\n",
    "    case'2',\n",
    "        C=0;\n",
    "        aHm = (1.1*log10(f)-0.7)*Hm-(1.56*log10(f)-0.8);\n",
    "    case'3',\n",
    "        aHm = (1.1*log10(f)-0.7)*Hm-(1.56*log10(f)-0.8);\n",
    "        C=-2*(log10(f/28))^2-5.4;\n",
    "    case'4',\n",
    "        aHm = (1.1*log10(f)-0.7)*Hm-(1.56*log10(f)-0.8);\n",
    "        C=-4.78*(log10(f))^2+18.33*log10(f)-40.98;\n",
    "    otherwise ,\n",
    "        error('Invalid model selection');\n",
    "    end"
   ]
  },
  {
   "cell_type": "code",
   "execution_count": 3,
   "metadata": {},
   "outputs": [
    {
     "data": {
      "image/png": "[encoded data removed]",
      "text/plain": [
       "<IPython.core.display.Image object>"
      ]
     },
     "metadata": {},
     "output_type": "display_data"
    }
   ],
   "source": [
    "A = 69.55 + 26.16*log10(f) - 13.82*log10(Hb)-aHm;\n",
    "B = 44.9 - 6.55*log10(Hb);\n",
    "PL=A+B*log10(d)+C;\n",
    "subplot(2,1,1)\n",
    "plot(d,PL,'r','LineWidth',2);\n",
    "title(['Hata-Okumura Path Loss Model for : ' modelName]);\n",
    "xlabel('Distance - Kilometers');\n",
    "ylabel('Path Loss (dB)');\n",
    "%Compute Received Signal Level\n",
    "Pr = 10*log10(Pt*1000)+Gt-PL;\n",
    "subplot(2,1,2)\n",
    "plot(d,Pr,'r','LineWidth',2);\n",
    "title(['Hata-Okumura Model for : ' modelName]);\n",
    "xlabel('Distance - Kilometers');\n",
    "ylabel('Received Signal Level (dBm)');"
   ]
  }
 ],
 "metadata": {
  "kernelspec": {
   "display_name": "Octave",
   "language": "octave",
   "name": "octave"
  },
  "language_info": {
   "file_extension": ".m",
   "help_links": [
    {
     "text": "GNU Octave",
     "url": "https://www.gnu.org/software/octave/support.html"
    },
    {
     "text": "Octave Kernel",
     "url": "https://github.com/Calysto/octave_kernel"
    },
    {
     "text": "MetaKernel Magics",
     "url": "https://metakernel.readthedocs.io/en/latest/source/README.html"
    }
   ],
   "mimetype": "text/x-octave",
   "name": "octave",
   "version": "5.2.0"
  }
 },
 "nbformat": 4,
 "nbformat_minor": 2
}
