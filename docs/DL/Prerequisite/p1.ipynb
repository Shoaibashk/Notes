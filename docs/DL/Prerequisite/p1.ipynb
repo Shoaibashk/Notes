{
 "cells": [
  {
   "source": [
    "# Prerequisite for Deep learning"
   ],
   "cell_type": "markdown",
   "metadata": {}
  },
  {
   "source": [
    "1. Logistics Regression Algorithm\n",
    "2. Perceptron\n",
    "3. Nerual Network\n",
    "4. Activation function \n",
    "5. Gradient Descent\n",
    "6. forward and backward propagation\n",
    "7. Regularization:\n",
    "    - Logistics Regression\n",
    "    - L1 Regularization\n",
    "    - L2 Regularization\n",
    "    - Drop out Regularization\n",
    "    - Data augmentation\n",
    "    - Early stoping\n",
    "    - Normalizing input\n",
    "    - Batch Norm\n",
    "8. Bais correction\n",
    "9. Exponentially weighted average\n",
    "10. momentum\n",
    "11. RMSProp\n",
    "12. Adam\n",
    "13. Learing rate Decay \n",
    "14. local optimal problem\n",
    "\n"
   ],
   "cell_type": "markdown",
   "metadata": {}
  },
  {
   "cell_type": "code",
   "execution_count": null,
   "metadata": {},
   "outputs": [],
   "source": []
  }
 ],
 "metadata": {},
 "nbformat": 4,
 "nbformat_minor": 2
}