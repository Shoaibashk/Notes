{
 "metadata": {
  "language_info": {
   "codemirror_mode": {
    "name": "ipython",
    "version": 3
   },
   "file_extension": ".py",
   "mimetype": "text/x-python",
   "name": "python",
   "nbconvert_exporter": "python",
   "pygments_lexer": "ipython3",
   "version": 3
  },
  "orig_nbformat": 2
 },
 "nbformat": 4,
 "nbformat_minor": 2,
 "cells": [
  {
   "source": [
    "# Convolutional Neural Networks"
   ],
   "cell_type": "markdown",
   "metadata": {}
  },
  {
   "source": [
    "## Challange in machine learning \n",
    "\n",
    "???+ question \"What is machine learning?\"\n",
    "     ```the ability to automatically learn and improve from experience without being explicitly programmed.\n",
    "      Machine learning focuses on the development of computer programs that can access data and use it learn for themselves.```\n",
    "\n",
    "???+ question \"Why multilayer neural Perceptron?\" \n",
    "     `To handle to handle non linearly separable data`\n",
    "\n",
    "???+ warning \"Large Dimensional Data\"\n",
    "      - More the features more the dimentionality of the data.\n",
    "      - The network structure and computational complexity.\n",
    "      - Difficult to feed raw data.\n",
    "!!! error \"Working with hand crafted feature for exracting data\"\n",
    "     \n",
    "\n",
    "!!! info \"Algorithms need to be guided about what kind of function they should learn.\"\n",
    "      \n",
    "\n",
    "!!! error \"What about vanishing gredient in back propagation\""
   ],
   "cell_type": "markdown",
   "metadata": {}
  },
  {
   "cell_type": "code",
   "execution_count": null,
   "metadata": {},
   "outputs": [],
   "source": []
  }
 ]
}